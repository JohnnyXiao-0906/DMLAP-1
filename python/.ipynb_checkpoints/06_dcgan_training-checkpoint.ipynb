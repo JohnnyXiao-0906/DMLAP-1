{
 "cells": [
  {
   "cell_type": "markdown",
   "metadata": {},
   "source": [
    "Training DCGAN on the Celeb Dataset\n",
    "=====\n",
    "\n"
   ]
  },
  {
   "cell_type": "markdown",
   "metadata": {},
   "source": [
    "[https://keras.io/examples/generative/dcgan_overriding_train_step/](https://keras.io/examples/generative/dcgan_overriding_train_step/)\n",
    "\n",
    "To run notebook you will need to install [gdown](https://pypi.org/project/gdown/), a library to download large files from Google Drive."
   ]
  },
  {
   "cell_type": "code",
   "execution_count": 2,
   "metadata": {},
   "outputs": [
    {
     "name": "stdout",
     "output_type": "stream",
     "text": [
      "Requirement already satisfied: matplotlib in d:\\miniconda\\envs\\johnny\\lib\\site-packages (3.7.0)\n",
      "Note: you may need to restart the kernel to use updated packages.\n"
     ]
    },
    {
     "name": "stderr",
     "output_type": "stream",
     "text": [
      "ERROR: Could not install packages due to an OSError: [Errno 2] No such file or directory: 'd:\\\\miniconda\\\\envs\\\\johnny\\\\lib\\\\site-packages\\\\matplotlib-3.7.0.dist-info\\\\METADATA'\n",
      "\n"
     ]
    }
   ],
   "source": [
    "pip install matplotlib"
   ]
  },
  {
   "cell_type": "code",
   "execution_count": 1,
   "metadata": {},
   "outputs": [
    {
     "name": "stdout",
     "output_type": "stream",
     "text": [
      "Requirement already satisfied: gdown in d:\\miniconda\\envs\\johnny\\lib\\site-packages (4.6.4)\n",
      "Requirement already satisfied: filelock in d:\\miniconda\\envs\\johnny\\lib\\site-packages (from gdown) (3.9.0)\n",
      "Requirement already satisfied: requests[socks] in d:\\miniconda\\envs\\johnny\\lib\\site-packages (from gdown) (2.28.2)\n",
      "Requirement already satisfied: beautifulsoup4 in d:\\miniconda\\envs\\johnny\\lib\\site-packages (from gdown) (4.11.1)\n",
      "Requirement already satisfied: tqdm in d:\\miniconda\\envs\\johnny\\lib\\site-packages (from gdown) (4.64.1)\n",
      "Requirement already satisfied: six in d:\\miniconda\\envs\\johnny\\lib\\site-packages (from gdown) (1.16.0)\n",
      "Requirement already satisfied: soupsieve>1.2 in d:\\miniconda\\envs\\johnny\\lib\\site-packages (from beautifulsoup4->gdown) (2.3.2.post1)\n",
      "Requirement already satisfied: urllib3<1.27,>=1.21.1 in d:\\miniconda\\envs\\johnny\\lib\\site-packages (from requests[socks]->gdown) (1.26.14)\n",
      "Requirement already satisfied: idna<4,>=2.5 in d:\\miniconda\\envs\\johnny\\lib\\site-packages (from requests[socks]->gdown) (3.4)\n",
      "Requirement already satisfied: charset-normalizer<4,>=2 in d:\\miniconda\\envs\\johnny\\lib\\site-packages (from requests[socks]->gdown) (3.0.1)\n",
      "Requirement already satisfied: certifi>=2017.4.17 in d:\\miniconda\\envs\\johnny\\lib\\site-packages (from requests[socks]->gdown) (2022.12.7)\n",
      "Requirement already satisfied: PySocks!=1.5.7,>=1.5.6 in d:\\miniconda\\envs\\johnny\\lib\\site-packages (from requests[socks]->gdown) (1.7.1)\n",
      "Requirement already satisfied: colorama in d:\\miniconda\\envs\\johnny\\lib\\site-packages (from tqdm->gdown) (0.4.6)\n"
     ]
    },
    {
     "name": "stderr",
     "output_type": "stream",
     "text": [
      "WARNING: Error parsing requirements for matplotlib: [Errno 2] No such file or directory: 'd:\\\\miniconda\\\\envs\\\\johnny\\\\lib\\\\site-packages\\\\matplotlib-3.7.0.dist-info\\\\METADATA'\n"
     ]
    }
   ],
   "source": [
    "!pip install gdown"
   ]
  },
  {
   "cell_type": "markdown",
   "metadata": {},
   "source": [
    "Now let's import the necessary modules"
   ]
  },
  {
   "cell_type": "code",
   "execution_count": 146,
   "metadata": {},
   "outputs": [],
   "source": [
    "import tensorflow as tf\n",
    "from tensorflow import keras\n",
    "from tensorflow.keras import layers\n",
    "\n",
    "import numpy as np\n",
    "import matplotlib.pyplot as plt\n",
    "import os, sys\n",
    "import gdown\n",
    "from zipfile import ZipFile"
   ]
  },
  {
   "cell_type": "markdown",
   "metadata": {},
   "source": [
    "## Prepare Celeb data\n",
    "\n"
   ]
  },
  {
   "cell_type": "markdown",
   "metadata": {},
   "source": [
    "In this example we will use the Celeb dataset. We will resize images to a size of `64x64`.\n",
    "First download the dataset (only need to do this once, then it will throw an error but don&rsquo;t worry):\n",
    "\n"
   ]
  },
  {
   "cell_type": "code",
   "execution_count": null,
   "metadata": {},
   "outputs": [
    {
     "name": "stdout",
     "output_type": "stream",
     "text": [
      "Celeb directory exists\n"
     ]
    }
   ],
   "source": [
    "if not os.path.isdir(\"datasets/celeba_gan\"):\n",
    "    os.makedirs(\"datasets/celeba_gan\", exist_ok=False)\n",
    "\n",
    "    url = \"https://drive.google.com/uc?id=1O7m1010EJjLE5QxLZiM9Fpjs7Oj6e684\"\n",
    "    output = \"datasets/celeba_gan/data.zip\"\n",
    "    gdown.download(url, output, quiet=False)\n",
    "\n",
    "    with ZipFile(\"celeba_gan/data.zip\", \"r\") as zipobj:\n",
    "        zipobj.extractall(\"datasets/celeba_gan\")\n",
    "else:\n",
    "    print(\"Celeb directory exists\")"
   ]
  },
  {
   "cell_type": "markdown",
   "metadata": {},
   "source": [
    "Check if the unzipping worked. \n",
    "And then convert this to a Tensorflow dataset. Because we expect to be training on our laptops, we will reduce the size of the training set. This is not ideal for GANs, but it will still produce reasonable results. Here we also scale the inputs to the `[-1, 1]` range and make sure the dataset is subdivided into batches of the desired size\n",
    "\n"
   ]
  },
  {
   "cell_type": "code",
   "execution_count": 147,
   "metadata": {},
   "outputs": [
    {
     "name": "stdout",
     "output_type": "stream",
     "text": [
      "Found 202599 files belonging to 1 classes.\n"
     ]
    }
   ],
   "source": [
    "dataset_path = \"datasets/celeba_gan\" # Change this for your custom dataset\n",
    "image_size = 64 # images are square\n",
    "image_channels = 3 # 3 RGB 1 Grayscale\n",
    "image_shape = (image_size, image_size, image_channels)\n",
    "dataset_size = 200\n",
    "batch_size = 32\n",
    "\n",
    "dataset = keras.utils.image_dataset_from_directory(\n",
    "    dataset_path, label_mode=None, image_size=(image_size, image_size), batch_size=None)\n",
    "\n",
    "# Note. comment the following line if you will use your own dataset\n",
    "dataset = dataset.take(dataset_size) \n",
    "dataset = dataset.map(lambda x: x / 127.5 - 1.0)\n",
    "dataset = dataset.batch(batch_size) # We create batch here since \"take\" would unbatch it.."
   ]
  },
  {
   "cell_type": "markdown",
   "metadata": {},
   "source": [
    "Now let&rsquo;s see one random instance from the dataset:"
   ]
  },
  {
   "cell_type": "code",
   "execution_count": 148,
   "metadata": {},
   "outputs": [
    {
     "data": {
      "image/png": "[encoded data removed]",
      "text/plain": [
       "<Figure size 640x480 with 1 Axes>"
      ]
     },
     "metadata": {},
     "output_type": "display_data"
    }
   ],
   "source": [
    "for x in dataset:\n",
    "    plt.axis(\"off\")\n",
    "    plt.imshow((x.numpy() * 127.5 + 127.5).astype(\"int32\")[0])\n",
    "    break"
   ]
  },
  {
   "cell_type": "markdown",
   "metadata": {},
   "source": [
    "## Create generator\n",
    "\n"
   ]
  },
  {
   "cell_type": "markdown",
   "metadata": {},
   "source": [
    "At this staget we need to construct our generator. There are many implementations out there, this is one that works reasonably well for our use case and it is adapted from [here](https://github.com/Kaustubh1Verma/Art-using-GANs/blob/ff41eeb5099d2aa3976ed1f051596d14015548d5/DCGAN/DCGAN.py).\n",
    "For GAN models it is [recommended](https://machinelearningmastery.com/how-to-code-generative-adversarial-network-hacks/) to initialize the layers with normally distributed (Gaussian) values and standard deviation of 0.02. The following function is built to enable training on different image sizes, but we recommend sticking with the `64x64` image size:\n",
    "\n"
   ]
  },
  {
   "cell_type": "code",
   "execution_count": 156,
   "metadata": {},
   "outputs": [
    {
     "name": "stdout",
     "output_type": "stream",
     "text": [
      "Model: \"sequential_295\"\n",
      "____________________________________________________________________________________________________\n",
      " Layer (type)                                Output Shape                            Param #        \n",
      "====================================================================================================\n",
      " dense_57 (Dense)                            (None, 512)                             51712          \n",
      "                                                                                                    \n",
      " reshape_32 (Reshape)                        (None, 2, 2, 128)                       0              \n",
      "                                                                                                    \n",
      " batch_normalization_213 (BatchNormalization  (None, 2, 2, 128)                      512            \n",
      " )                                                                                                  \n",
      "                                                                                                    \n",
      " sequential_290 (Sequential)                 (None, 4, 4, 1024)                      2102272        \n",
      "|¯¯¯¯¯¯¯¯¯¯¯¯¯¯¯¯¯¯¯¯¯¯¯¯¯¯¯¯¯¯¯¯¯¯¯¯¯¯¯¯¯¯¯¯¯¯¯¯¯¯¯¯¯¯¯¯¯¯¯¯¯¯¯¯¯¯¯¯¯¯¯¯¯¯¯¯¯¯¯¯¯¯¯¯¯¯¯¯¯¯¯¯¯¯¯¯¯¯|\n",
      "| up_sampling2d_139 (UpSampling2D)          (None, 4, 4, 128)                       0              |\n",
      "|                                                                                                  |\n",
      "| conv2d_274 (Conv2D)                       (None, 4, 4, 1024)                      2098176        |\n",
      "|                                                                                                  |\n",
      "| activation_138 (Activation)               (None, 4, 4, 1024)                      0              |\n",
      "|                                                                                                  |\n",
      "| batch_normalization_214 (BatchNormalization  (None, 4, 4, 1024)                   4096           |\n",
      "| )                                                                                                |\n",
      "¯¯¯¯¯¯¯¯¯¯¯¯¯¯¯¯¯¯¯¯¯¯¯¯¯¯¯¯¯¯¯¯¯¯¯¯¯¯¯¯¯¯¯¯¯¯¯¯¯¯¯¯¯¯¯¯¯¯¯¯¯¯¯¯¯¯¯¯¯¯¯¯¯¯¯¯¯¯¯¯¯¯¯¯¯¯¯¯¯¯¯¯¯¯¯¯¯¯¯¯\n",
      " sequential_291 (Sequential)                 (None, 8, 8, 512)                       8391168        \n",
      "|¯¯¯¯¯¯¯¯¯¯¯¯¯¯¯¯¯¯¯¯¯¯¯¯¯¯¯¯¯¯¯¯¯¯¯¯¯¯¯¯¯¯¯¯¯¯¯¯¯¯¯¯¯¯¯¯¯¯¯¯¯¯¯¯¯¯¯¯¯¯¯¯¯¯¯¯¯¯¯¯¯¯¯¯¯¯¯¯¯¯¯¯¯¯¯¯¯¯|\n",
      "| up_sampling2d_140 (UpSampling2D)          (None, 8, 8, 1024)                      0              |\n",
      "|                                                                                                  |\n",
      "| conv2d_275 (Conv2D)                       (None, 8, 8, 512)                       8389120        |\n",
      "|                                                                                                  |\n",
      "| activation_139 (Activation)               (None, 8, 8, 512)                       0              |\n",
      "|                                                                                                  |\n",
      "| batch_normalization_215 (BatchNormalization  (None, 8, 8, 512)                    2048           |\n",
      "| )                                                                                                |\n",
      "¯¯¯¯¯¯¯¯¯¯¯¯¯¯¯¯¯¯¯¯¯¯¯¯¯¯¯¯¯¯¯¯¯¯¯¯¯¯¯¯¯¯¯¯¯¯¯¯¯¯¯¯¯¯¯¯¯¯¯¯¯¯¯¯¯¯¯¯¯¯¯¯¯¯¯¯¯¯¯¯¯¯¯¯¯¯¯¯¯¯¯¯¯¯¯¯¯¯¯¯\n",
      " sequential_292 (Sequential)                 (None, 16, 16, 128)                     1049216        \n",
      "|¯¯¯¯¯¯¯¯¯¯¯¯¯¯¯¯¯¯¯¯¯¯¯¯¯¯¯¯¯¯¯¯¯¯¯¯¯¯¯¯¯¯¯¯¯¯¯¯¯¯¯¯¯¯¯¯¯¯¯¯¯¯¯¯¯¯¯¯¯¯¯¯¯¯¯¯¯¯¯¯¯¯¯¯¯¯¯¯¯¯¯¯¯¯¯¯¯¯|\n",
      "| up_sampling2d_141 (UpSampling2D)          (None, 16, 16, 512)                     0              |\n",
      "|                                                                                                  |\n",
      "| conv2d_276 (Conv2D)                       (None, 16, 16, 128)                     1048704        |\n",
      "|                                                                                                  |\n",
      "| activation_140 (Activation)               (None, 16, 16, 128)                     0              |\n",
      "|                                                                                                  |\n",
      "| batch_normalization_216 (BatchNormalization  (None, 16, 16, 128)                  512            |\n",
      "| )                                                                                                |\n",
      "¯¯¯¯¯¯¯¯¯¯¯¯¯¯¯¯¯¯¯¯¯¯¯¯¯¯¯¯¯¯¯¯¯¯¯¯¯¯¯¯¯¯¯¯¯¯¯¯¯¯¯¯¯¯¯¯¯¯¯¯¯¯¯¯¯¯¯¯¯¯¯¯¯¯¯¯¯¯¯¯¯¯¯¯¯¯¯¯¯¯¯¯¯¯¯¯¯¯¯¯\n",
      " sequential_293 (Sequential)                 (None, 32, 32, 64)                      131392         \n",
      "|¯¯¯¯¯¯¯¯¯¯¯¯¯¯¯¯¯¯¯¯¯¯¯¯¯¯¯¯¯¯¯¯¯¯¯¯¯¯¯¯¯¯¯¯¯¯¯¯¯¯¯¯¯¯¯¯¯¯¯¯¯¯¯¯¯¯¯¯¯¯¯¯¯¯¯¯¯¯¯¯¯¯¯¯¯¯¯¯¯¯¯¯¯¯¯¯¯¯|\n",
      "| up_sampling2d_142 (UpSampling2D)          (None, 32, 32, 128)                     0              |\n",
      "|                                                                                                  |\n",
      "| conv2d_277 (Conv2D)                       (None, 32, 32, 64)                      131136         |\n",
      "|                                                                                                  |\n",
      "| activation_141 (Activation)               (None, 32, 32, 64)                      0              |\n",
      "|                                                                                                  |\n",
      "| batch_normalization_217 (BatchNormalization  (None, 32, 32, 64)                   256            |\n",
      "| )                                                                                                |\n",
      "¯¯¯¯¯¯¯¯¯¯¯¯¯¯¯¯¯¯¯¯¯¯¯¯¯¯¯¯¯¯¯¯¯¯¯¯¯¯¯¯¯¯¯¯¯¯¯¯¯¯¯¯¯¯¯¯¯¯¯¯¯¯¯¯¯¯¯¯¯¯¯¯¯¯¯¯¯¯¯¯¯¯¯¯¯¯¯¯¯¯¯¯¯¯¯¯¯¯¯¯\n",
      " sequential_294 (Sequential)                 (None, 64, 64, 32)                      32928          \n",
      "|¯¯¯¯¯¯¯¯¯¯¯¯¯¯¯¯¯¯¯¯¯¯¯¯¯¯¯¯¯¯¯¯¯¯¯¯¯¯¯¯¯¯¯¯¯¯¯¯¯¯¯¯¯¯¯¯¯¯¯¯¯¯¯¯¯¯¯¯¯¯¯¯¯¯¯¯¯¯¯¯¯¯¯¯¯¯¯¯¯¯¯¯¯¯¯¯¯¯|\n",
      "| up_sampling2d_143 (UpSampling2D)          (None, 64, 64, 64)                      0              |\n",
      "|                                                                                                  |\n",
      "| conv2d_278 (Conv2D)                       (None, 64, 64, 32)                      32800          |\n",
      "|                                                                                                  |\n",
      "| activation_142 (Activation)               (None, 64, 64, 32)                      0              |\n",
      "|                                                                                                  |\n",
      "| batch_normalization_218 (BatchNormalization  (None, 64, 64, 32)                   128            |\n",
      "| )                                                                                                |\n",
      "¯¯¯¯¯¯¯¯¯¯¯¯¯¯¯¯¯¯¯¯¯¯¯¯¯¯¯¯¯¯¯¯¯¯¯¯¯¯¯¯¯¯¯¯¯¯¯¯¯¯¯¯¯¯¯¯¯¯¯¯¯¯¯¯¯¯¯¯¯¯¯¯¯¯¯¯¯¯¯¯¯¯¯¯¯¯¯¯¯¯¯¯¯¯¯¯¯¯¯¯\n",
      " conv2d_279 (Conv2D)                         (None, 64, 64, 3)                       1539           \n",
      "                                                                                                    \n",
      "====================================================================================================\n",
      "Total params: 11,760,739\n",
      "Trainable params: 11,756,963\n",
      "Non-trainable params: 3,776\n",
      "____________________________________________________________________________________________________\n"
     ]
    }
   ],
   "source": [
    "latent_dim = 100 # The size of the latent space\n",
    "kernel_size = 4 \n",
    "\n",
    "# This will initialize our layers randomly\n",
    "init = lambda: tf.keras.initializers.RandomNormal(stddev=0.02)\n",
    "\n",
    "def gen_block(size):\n",
    "    return keras.Sequential(\n",
    "        [\n",
    "            layers.UpSampling2D(),\n",
    "            layers.Conv2D(size, kernel_size, padding='same', kernel_initializer=init()),\n",
    "            layers.Activation(\"relu\"),\n",
    "            layers.BatchNormalization(momentum=0.8),\n",
    "        ]\n",
    "    )\n",
    "\n",
    "# From https://github.com/Kaustubh1Verma/Art-using-GANs/blob/ff41eeb5099d2aa3976ed1f051596d14015548d5/DCGAN/DCGAN.py\n",
    "# This will enable working with image sizes other than 64x64 (untested)\n",
    "upsample_layers = 5\n",
    "start_size =  image_size // (2 ** upsample_layers)\n",
    "starting_filters = 128\n",
    "\n",
    "generator = keras.Sequential(\n",
    "    [\n",
    "        layers.Input(shape=(latent_dim,)),\n",
    "        layers.Dense(starting_filters * start_size * start_size, activation=\"relu\"),\n",
    "        layers.Reshape((start_size, start_size, starting_filters)),\n",
    "        layers.BatchNormalization(momentum=0.8),\n",
    "        gen_block(1024),\n",
    "        gen_block(512),\n",
    "        gen_block(128),\n",
    "        gen_block(64),\n",
    "        gen_block(32),\n",
    "        layers.Conv2D(3, kernel_size=kernel_size, padding=\"same\", activation=\"tanh\", kernel_initializer=init()),\n",
    "    ]\n",
    ")\n",
    "\n",
    "generator.summary(expand_nested=True, line_length=100)"
   ]
  },
  {
   "cell_type": "markdown",
   "metadata": {},
   "source": [
    "Let&rsquo;s see it&rsquo;s output before training\n",
    "\n"
   ]
  },
  {
   "cell_type": "code",
   "execution_count": 157,
   "metadata": {},
   "outputs": [
    {
     "data": {
      "image/png": "[encoded data removed]",
      "text/plain": [
       "<Figure size 640x480 with 1 Axes>"
      ]
     },
     "metadata": {},
     "output_type": "display_data"
    }
   ],
   "source": [
    "noise = tf.random.normal([1, latent_dim])\n",
    "generated_image = generator(noise, training=True)\n",
    "plt.imshow(generated_image[0, :, :]*0.5+0.5)\n",
    "plt.show()"
   ]
  },
  {
   "cell_type": "markdown",
   "metadata": {},
   "source": [
    "## Create discriminator\n",
    "\n"
   ]
  },
  {
   "cell_type": "markdown",
   "metadata": {},
   "source": [
    "We then define the discriminator model, again adapted adapted from [here](https://github.com/Kaustubh1Verma/Art-using-GANs/blob/ff41eeb5099d2aa3976ed1f051596d14015548d5/DCGAN/DCGAN.py).\n",
    "\n"
   ]
  },
  {
   "cell_type": "code",
   "execution_count": 158,
   "metadata": {},
   "outputs": [
    {
     "name": "stdout",
     "output_type": "stream",
     "text": [
      "Model: \"sequential_301\"\n",
      "_________________________________________________________________\n",
      " Layer (type)                Output Shape              Param #   \n",
      "=================================================================\n",
      " sequential_296 (Sequential)  (None, 32, 32, 64)       1792      \n",
      "|¯¯¯¯¯¯¯¯¯¯¯¯¯¯¯¯¯¯¯¯¯¯¯¯¯¯¯¯¯¯¯¯¯¯¯¯¯¯¯¯¯¯¯¯¯¯¯¯¯¯¯¯¯¯¯¯¯¯¯¯¯¯¯|\n",
      "| conv2d_280 (Conv2D)       (None, 32, 32, 64)        1792      |\n",
      "|                                                               |\n",
      "| leaky_re_lu_114 (LeakyReLU)  (None, 32, 32, 64)     0         |\n",
      "|                                                               |\n",
      "| dropout_60 (Dropout)      (None, 32, 32, 64)        0         |\n",
      "¯¯¯¯¯¯¯¯¯¯¯¯¯¯¯¯¯¯¯¯¯¯¯¯¯¯¯¯¯¯¯¯¯¯¯¯¯¯¯¯¯¯¯¯¯¯¯¯¯¯¯¯¯¯¯¯¯¯¯¯¯¯¯¯¯\n",
      " sequential_297 (Sequential)  (None, 17, 17, 64)       37184     \n",
      "|¯¯¯¯¯¯¯¯¯¯¯¯¯¯¯¯¯¯¯¯¯¯¯¯¯¯¯¯¯¯¯¯¯¯¯¯¯¯¯¯¯¯¯¯¯¯¯¯¯¯¯¯¯¯¯¯¯¯¯¯¯¯¯|\n",
      "| conv2d_281 (Conv2D)       (None, 16, 16, 64)        36928     |\n",
      "|                                                               |\n",
      "| leaky_re_lu_115 (LeakyReLU)  (None, 16, 16, 64)     0         |\n",
      "|                                                               |\n",
      "| dropout_61 (Dropout)      (None, 16, 16, 64)        0         |\n",
      "|                                                               |\n",
      "| zero_padding2d_23 (ZeroPadd  (None, 17, 17, 64)     0         |\n",
      "| ing2D)                                                        |\n",
      "|                                                               |\n",
      "| batch_normalization_219 (Ba  (None, 17, 17, 64)     256       |\n",
      "| tchNormalization)                                             |\n",
      "¯¯¯¯¯¯¯¯¯¯¯¯¯¯¯¯¯¯¯¯¯¯¯¯¯¯¯¯¯¯¯¯¯¯¯¯¯¯¯¯¯¯¯¯¯¯¯¯¯¯¯¯¯¯¯¯¯¯¯¯¯¯¯¯¯\n",
      " sequential_298 (Sequential)  (None, 9, 9, 64)         37184     \n",
      "|¯¯¯¯¯¯¯¯¯¯¯¯¯¯¯¯¯¯¯¯¯¯¯¯¯¯¯¯¯¯¯¯¯¯¯¯¯¯¯¯¯¯¯¯¯¯¯¯¯¯¯¯¯¯¯¯¯¯¯¯¯¯¯|\n",
      "| conv2d_282 (Conv2D)       (None, 9, 9, 64)          36928     |\n",
      "|                                                               |\n",
      "| leaky_re_lu_116 (LeakyReLU)  (None, 9, 9, 64)       0         |\n",
      "|                                                               |\n",
      "| dropout_62 (Dropout)      (None, 9, 9, 64)          0         |\n",
      "|                                                               |\n",
      "| batch_normalization_220 (Ba  (None, 9, 9, 64)       256       |\n",
      "| tchNormalization)                                             |\n",
      "¯¯¯¯¯¯¯¯¯¯¯¯¯¯¯¯¯¯¯¯¯¯¯¯¯¯¯¯¯¯¯¯¯¯¯¯¯¯¯¯¯¯¯¯¯¯¯¯¯¯¯¯¯¯¯¯¯¯¯¯¯¯¯¯¯\n",
      " sequential_299 (Sequential)  (None, 9, 9, 64)         36928     \n",
      "|¯¯¯¯¯¯¯¯¯¯¯¯¯¯¯¯¯¯¯¯¯¯¯¯¯¯¯¯¯¯¯¯¯¯¯¯¯¯¯¯¯¯¯¯¯¯¯¯¯¯¯¯¯¯¯¯¯¯¯¯¯¯¯|\n",
      "| conv2d_283 (Conv2D)       (None, 9, 9, 64)          36928     |\n",
      "|                                                               |\n",
      "| leaky_re_lu_117 (LeakyReLU)  (None, 9, 9, 64)       0         |\n",
      "|                                                               |\n",
      "| dropout_63 (Dropout)      (None, 9, 9, 64)          0         |\n",
      "¯¯¯¯¯¯¯¯¯¯¯¯¯¯¯¯¯¯¯¯¯¯¯¯¯¯¯¯¯¯¯¯¯¯¯¯¯¯¯¯¯¯¯¯¯¯¯¯¯¯¯¯¯¯¯¯¯¯¯¯¯¯¯¯¯\n",
      " sequential_300 (Sequential)  (None, 9, 9, 64)         36928     \n",
      "|¯¯¯¯¯¯¯¯¯¯¯¯¯¯¯¯¯¯¯¯¯¯¯¯¯¯¯¯¯¯¯¯¯¯¯¯¯¯¯¯¯¯¯¯¯¯¯¯¯¯¯¯¯¯¯¯¯¯¯¯¯¯¯|\n",
      "| conv2d_284 (Conv2D)       (None, 9, 9, 64)          36928     |\n",
      "|                                                               |\n",
      "| leaky_re_lu_118 (LeakyReLU)  (None, 9, 9, 64)       0         |\n",
      "|                                                               |\n",
      "| dropout_64 (Dropout)      (None, 9, 9, 64)          0         |\n",
      "¯¯¯¯¯¯¯¯¯¯¯¯¯¯¯¯¯¯¯¯¯¯¯¯¯¯¯¯¯¯¯¯¯¯¯¯¯¯¯¯¯¯¯¯¯¯¯¯¯¯¯¯¯¯¯¯¯¯¯¯¯¯¯¯¯\n",
      " flatten_25 (Flatten)        (None, 5184)              0         \n",
      "                                                                 \n",
      " dense_58 (Dense)            (None, 1)                 5185      \n",
      "                                                                 \n",
      "=================================================================\n",
      "Total params: 155,201\n",
      "Trainable params: 154,945\n",
      "Non-trainable params: 256\n",
      "_________________________________________________________________\n"
     ]
    }
   ],
   "source": [
    "kernel_size = 3\n",
    "def disc_block(size, strides, batch_norm=True, padding=False):\n",
    "    layer_list = [\n",
    "                  layers.Conv2D(64, kernel_size=kernel_size, strides=strides, padding=\"same\", kernel_initializer=init()), # Always keep\n",
    "                  layers.LeakyReLU(alpha=0.2), # Always keep\n",
    "                  layers.Dropout(0.1) # Try to comment\n",
    "                  ]\n",
    "    if padding:\n",
    "        layer_list += [layers.ZeroPadding2D(padding=((0,1),(0,1)))] # Always keep\n",
    "    if batch_norm:\n",
    "        layer_list += [layers.BatchNormalization(momentum=0.8)] \n",
    "    return keras.Sequential(layer_list)\n",
    "\n",
    "discriminator = keras.Sequential(\n",
    "    [\n",
    "        keras.Input(shape=image_shape),\n",
    "        disc_block(32, 2, batch_norm=False),\n",
    "        disc_block(64, 2, batch_norm=True, padding=True),\n",
    "        disc_block(128, 2, batch_norm=True),\n",
    "        disc_block(256, 1, batch_norm=False),\n",
    "        disc_block(512, 1, batch_norm=False),\n",
    "        layers.Flatten(),\n",
    "        layers.Dense(1, activation=\"sigmoid\"),\n",
    "    ]\n",
    ")   \n",
    "        \n",
    "        \n",
    "discriminator.summary(expand_nested=True)"
   ]
  },
  {
   "cell_type": "markdown",
   "metadata": {},
   "source": [
    "Let&rsquo;s see what the discriminator thinks of our generated image:\n",
    "\n"
   ]
  },
  {
   "cell_type": "code",
   "execution_count": 159,
   "metadata": {},
   "outputs": [
    {
     "name": "stdout",
     "output_type": "stream",
     "text": [
      "tf.Tensor([[0.5001156]], shape=(1, 1), dtype=float32)\n"
     ]
    }
   ],
   "source": [
    "decision = discriminator(generated_image)\n",
    "print (decision)"
   ]
  },
  {
   "cell_type": "markdown",
   "metadata": {},
   "source": [
    "# Train the network\n",
    "Tensorflow and Keras offer many ways to combine the generator and discriminator into a GAN model and train it. Here we follow one approach that appears to work relatively well for a small number of images, in which we manually define the training loop. "
   ]
  },
  {
   "cell_type": "code",
   "execution_count": 160,
   "metadata": {},
   "outputs": [
    {
     "name": "stdout",
     "output_type": "stream",
     "text": [
      "Epoch 1 - 7 of 7 [D loss: 0.634597510099411 | D Accuracy: 0.0] [G loss: 0.6886855363845825]Saving epoch 1 to ./models/dcgan_dmlap\n",
      "WARNING:tensorflow:Compiled the loaded model, but the compiled metrics have yet to be built. `model.compile_metrics` will be empty until you train or evaluate the model.\n",
      "Epoch 2 - 7 of 7 [D loss: 0.6120399236679077 | D Accuracy: 0.0] [G loss: 0.6639909148216248]Saving epoch 2 to ./models/dcgan_dmlap\n",
      "WARNING:tensorflow:Compiled the loaded model, but the compiled metrics have yet to be built. `model.compile_metrics` will be empty until you train or evaluate the model.\n",
      "Epoch 3 - 7 of 7 [D loss: 0.7481336295604706 | D Accuracy: 0.0] [G loss: 0.7421990036964417]Saving epoch 3 to ./models/dcgan_dmlap\n",
      "WARNING:tensorflow:Compiled the loaded model, but the compiled metrics have yet to be built. `model.compile_metrics` will be empty until you train or evaluate the model.\n",
      "Epoch 4 - 7 of 7 [D loss: 0.5503570139408112 | D Accuracy: 0.0] [G loss: 0.8505192995071411]Saving epoch 4 to ./models/dcgan_dmlap\n",
      "WARNING:tensorflow:Compiled the loaded model, but the compiled metrics have yet to be built. `model.compile_metrics` will be empty until you train or evaluate the model.\n",
      "Epoch 5 - 7 of 7 [D loss: 0.7100178897380829 | D Accuracy: 0.0] [G loss: 0.8495703935623169]Saving epoch 5 to ./models/dcgan_dmlap\n",
      "WARNING:tensorflow:Compiled the loaded model, but the compiled metrics have yet to be built. `model.compile_metrics` will be empty until you train or evaluate the model.\n",
      "Epoch 6 - 7 of 7 [D loss: 0.5136540532112122 | D Accuracy: 0.0] [G loss: 0.8718029260635376]Saving epoch 6 to ./models/dcgan_dmlap\n",
      "WARNING:tensorflow:Compiled the loaded model, but the compiled metrics have yet to be built. `model.compile_metrics` will be empty until you train or evaluate the model.\n",
      "Epoch 7 - 7 of 7 [D loss: 0.6547147333621979 | D Accuracy: 0.0] [G loss: 0.7746191024780273]Saving epoch 7 to ./models/dcgan_dmlap\n",
      "WARNING:tensorflow:Compiled the loaded model, but the compiled metrics have yet to be built. `model.compile_metrics` will be empty until you train or evaluate the model.\n",
      "Epoch 8 - 7 of 7 [D loss: 0.508213683962822 | D Accuracy: 0.0] [G loss: 0.9949429631233215]Saving epoch 8 to ./models/dcgan_dmlap\n",
      "WARNING:tensorflow:Compiled the loaded model, but the compiled metrics have yet to be built. `model.compile_metrics` will be empty until you train or evaluate the model.\n",
      "Epoch 9 - 7 of 7 [D loss: 0.6990644037723541 | D Accuracy: 0.0] [G loss: 0.9060294032096863]Saving epoch 9 to ./models/dcgan_dmlap\n",
      "WARNING:tensorflow:Compiled the loaded model, but the compiled metrics have yet to be built. `model.compile_metrics` will be empty until you train or evaluate the model.\n",
      "Epoch 10 - 7 of 7 [D loss: 0.4759494364261627 | D Accuracy: 0.0] [G loss: 0.9602970480918884]Saving epoch 10 to ./models/dcgan_dmlap\n",
      "WARNING:tensorflow:Compiled the loaded model, but the compiled metrics have yet to be built. `model.compile_metrics` will be empty until you train or evaluate the model.\n",
      "Epoch 11 - 7 of 7 [D loss: 0.7951076626777649 | D Accuracy: 0.0] [G loss: 0.9449177980422974]Saving epoch 11 to ./models/dcgan_dmlap\n",
      "WARNING:tensorflow:Compiled the loaded model, but the compiled metrics have yet to be built. `model.compile_metrics` will be empty until you train or evaluate the model.\n",
      "Epoch 12 - 7 of 7 [D loss: 0.6769123673439026 | D Accuracy: 0.0] [G loss: 0.9753303527832031]Saving epoch 12 to ./models/dcgan_dmlap\n",
      "WARNING:tensorflow:Compiled the loaded model, but the compiled metrics have yet to be built. `model.compile_metrics` will be empty until you train or evaluate the model.\n",
      "Epoch 13 - 7 of 7 [D loss: 0.6641725301742554 | D Accuracy: 0.0] [G loss: 0.8612473011016846]Saving epoch 13 to ./models/dcgan_dmlap\n",
      "WARNING:tensorflow:Compiled the loaded model, but the compiled metrics have yet to be built. `model.compile_metrics` will be empty until you train or evaluate the model.\n",
      "Epoch 14 - 7 of 7 [D loss: 0.651689738035202 | D Accuracy: 0.0] [G loss: 1.0928353071212769]Saving epoch 14 to ./models/dcgan_dmlap\n",
      "WARNING:tensorflow:Compiled the loaded model, but the compiled metrics have yet to be built. `model.compile_metrics` will be empty until you train or evaluate the model.\n",
      "Epoch 15 - 7 of 7 [D loss: 1.1322507858276367 | D Accuracy: 0.0] [G loss: 0.8900306224822998]Saving epoch 15 to ./models/dcgan_dmlap\n",
      "WARNING:tensorflow:Compiled the loaded model, but the compiled metrics have yet to be built. `model.compile_metrics` will be empty until you train or evaluate the model.\n",
      "Epoch 16 - 7 of 7 [D loss: 0.5365298688411713 | D Accuracy: 0.0] [G loss: 0.9179707765579224]Saving epoch 16 to ./models/dcgan_dmlap\n",
      "WARNING:tensorflow:Compiled the loaded model, but the compiled metrics have yet to be built. `model.compile_metrics` will be empty until you train or evaluate the model.\n",
      "Epoch 17 - 1 of 7 [D loss: 0.592094361782074 | D Accuracy: 0.0] [G loss: 1.0396820306777954]"
     ]
    }
   ],
   "source": [
    "optimizer = tf.keras.optimizers.legacy.Adam(0.0001, 0.5, decay=0.00005)\n",
    "\n",
    "discriminator.compile(loss='binary_crossentropy',\n",
    "                      optimizer=optimizer,\n",
    "\n",
    "                      metrics=['accuracy'])\n",
    "\n",
    "\n",
    "# The generator takes noise as input and generates imgs\n",
    "z = keras.Input(shape=(latent_dim,))\n",
    "img = generator(z)\n",
    "\n",
    "# For the combined model we will only train the generator\n",
    "discriminator.trainable = False\n",
    "\n",
    "# The discriminator takes generated images as input and determines validity\n",
    "valid = discriminator(img)\n",
    "\n",
    "# The combined model  (stacked generator and discriminator)\n",
    "# Trains the generator to fool the discriminator\n",
    "combined = keras.Model(z, valid)\n",
    "combined.compile(loss='binary_crossentropy', optimizer=optimizer)\n",
    "#%%\n",
    "\n",
    "epochs = 60 \n",
    "save_interval = 1\n",
    "\n",
    "model_path = \"./models/dcgan_dmlap\"\n",
    "os.makedirs(model_path, exist_ok=True)\n",
    "import sys\n",
    "\n",
    "for epoch in range(epochs):\n",
    "    n = dataset.cardinality() # The number of batches per epoch\n",
    "    # Iterate over all batches\n",
    "    for i, batch in enumerate(dataset.as_numpy_iterator()):\n",
    "        # Convert batch to numpy for convenience\n",
    "        half_batch_size = len(batch)//2\n",
    "\n",
    "        # Train generator\n",
    "        discriminator.trainable = False\n",
    "        noise = np.random.normal(0, 1, (batch_size, 100))\n",
    "        g_loss = combined.train_on_batch(noise, np.ones((batch_size, 1)))\n",
    "        discriminator.trainable = True\n",
    "\n",
    "        # Get random half of the batch\n",
    "        idx = np.random.randint(0, batch.shape[0], half_batch_size)\n",
    "        imgs = batch[idx]\n",
    "        # For the remaining half batch, sample noise and generate new images\n",
    "        noise = np.random.normal(0, 1, (half_batch_size, 100))\n",
    "        gen_imgs = generator.predict(noise, verbose=0)\n",
    "\n",
    "        # Train the discriminator (real classified as ones and generated as zeros)\n",
    "        real_labels = np.ones((half_batch_size, 1))\n",
    "        fake_labels = np.zeros((half_batch_size, 1))\n",
    "        noise_amt = 0.01\n",
    "        real_labels -= tf.random.uniform(tf.shape(real_labels))*noise_amt\n",
    "        fake_labels += tf.random.uniform(tf.shape(fake_labels))*noise_amt\n",
    "        d_loss_real = discriminator.train_on_batch(imgs, real_labels)\n",
    "        d_loss_fake = discriminator.train_on_batch(gen_imgs, fake_labels)\n",
    "        d_loss = 0.5 * np.add(d_loss_real, d_loss_fake)\n",
    "\n",
    "        # Print progress on same line\n",
    "        sys.stdout.write(\"\\r\" + \"Epoch %d - %d of %d \"%(epoch+1, i+1, n) + \"[D loss: \"+str(d_loss[0])+\" | D Accuracy: \"+str(100 * d_loss[1])+\"] [G loss: \"+str(g_loss)+\"]\")\n",
    "\n",
    "    if epoch % save_interval == 0:\n",
    "        print('Saving epoch %d to %s'%(epoch+1, model_path))\n",
    "        num_examples = 5\n",
    "        random_latent_vectors = tf.random.normal(shape=(num_examples, latent_dim))\n",
    "        generated_images = generator(random_latent_vectors, training=False)\n",
    "        #generated_images *= 255\n",
    "        generated_images = generated_images * 127.5 + 127.5 #255\n",
    "        generated_images.numpy()\n",
    "        for i in range(num_examples):\n",
    "            img = keras.preprocessing.image.array_to_img(generated_images[i])\n",
    "            img.save(os.path.join(model_path, \"e%03d_generated_img_%d.png\" % (epoch+1, i)))\n",
    "\n",
    "        generator.save(os.path.join(model_path, \"e%0d_generator.hd5\"%(epoch+1)), save_format='h5')\n"
   ]
  },
  {
   "cell_type": "code",
   "execution_count": null,
   "metadata": {},
   "outputs": [],
   "source": []
  }
 ],
 "metadata": {
  "kernelspec": {
   "display_name": "Python 3 (ipykernel)",
   "language": "python",
   "name": "python3"
  },
  "language_info": {
   "codemirror_mode": {
    "name": "ipython",
    "version": 3
   },
   "file_extension": ".py",
   "mimetype": "text/x-python",
   "name": "python",
   "nbconvert_exporter": "python",
   "pygments_lexer": "ipython3",
   "version": "3.9.16"
  },
  "org": null,
  "vscode": {
   "interpreter": {
    "hash": "1c544d3133b9d8c6f36fca025551af31afa9ef134259e7064ad6be0c15e6401c"
   }
  }
 },
 "nbformat": 4,
 "nbformat_minor": 1
}
